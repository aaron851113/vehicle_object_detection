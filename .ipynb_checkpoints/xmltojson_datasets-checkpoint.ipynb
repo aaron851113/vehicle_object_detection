{
 "cells": [
  {
   "cell_type": "code",
   "execution_count": 1,
   "metadata": {},
   "outputs": [],
   "source": [
    "import xmltodict\n",
    "import glob\n",
    "import json\n",
    "import xml.etree.cElementTree as ET\n",
    "import os"
   ]
  },
  {
   "cell_type": "code",
   "execution_count": 2,
   "metadata": {},
   "outputs": [],
   "source": [
    "# for split validation data\n",
    "from numpy import random\n",
    "rand_numbers = random.randint(89000, size=(2000)) # 1/10 data for valid"
   ]
  },
  {
   "cell_type": "code",
   "execution_count": 3,
   "metadata": {},
   "outputs": [
    {
     "name": "stdout",
     "output_type": "stream",
     "text": [
      "2000\n"
     ]
    },
    {
     "data": {
      "text/plain": [
       "array([47970, 87625, 52496, 37284, 61763, 56024, 69363, 33477, 24862,\n",
       "       42297])"
      ]
     },
     "execution_count": 3,
     "metadata": {},
     "output_type": "execute_result"
    }
   ],
   "source": [
    "print(len(rand_numbers))\n",
    "rand_numbers[:10]"
   ]
  },
  {
   "cell_type": "markdown",
   "metadata": {},
   "source": [
    "### Training XML folder to json"
   ]
  },
  {
   "cell_type": "code",
   "execution_count": 4,
   "metadata": {},
   "outputs": [
    {
     "name": "stdout",
     "output_type": "stream",
     "text": [
      "['../AIdea/ivslab_train/Annotations/All/10_00.mp4', '../AIdea/ivslab_train/Annotations/All/10_01.mp4', '../AIdea/ivslab_train/Annotations/All/10_02.mp4', '../AIdea/ivslab_train/Annotations/All/10_03.mp4', '../AIdea/ivslab_train/Annotations/All/10_04.mp4', '../AIdea/ivslab_train/Annotations/All/191_00.mp4', '../AIdea/ivslab_train/Annotations/All/191_01.mp4', '../AIdea/ivslab_train/Annotations/All/191_02.mp4', '../AIdea/ivslab_train/Annotations/All/191_03.mp4', '../AIdea/ivslab_train/Annotations/All/191_04.mp4', '../AIdea/ivslab_train/Annotations/All/1_40_00.mp4', '../AIdea/ivslab_train/Annotations/All/1_40_01.mp4', '../AIdea/ivslab_train/Annotations/All/1_40_02.mp4', '../AIdea/ivslab_train/Annotations/All/2_77_00.mp4', '../AIdea/ivslab_train/Annotations/All/2_77_01.mp4', '../AIdea/ivslab_train/Annotations/All/2_77_02.mp4', '../AIdea/ivslab_train/Annotations/All/2_78_00.mp4', '../AIdea/ivslab_train/Annotations/All/2_78_01.mp4', '../AIdea/ivslab_train/Annotations/All/2_78_02.mp4', '../AIdea/ivslab_train/Annotations/All/71_00.mp4', '../AIdea/ivslab_train/Annotations/All/71_01.mp4', '../AIdea/ivslab_train/Annotations/All/71_02.mp4', '../AIdea/ivslab_train/Annotations/All/71_03.mp4', '../AIdea/ivslab_train/Annotations/All/71_04.mp4', '../AIdea/ivslab_train/Annotations/All/9_00.mp4', '../AIdea/ivslab_train/Annotations/All/9_01.mp4', '../AIdea/ivslab_train/Annotations/All/9_02.mp4', '../AIdea/ivslab_train/Annotations/All/9_03.mp4', '../AIdea/ivslab_train/Annotations/All/9_04.mp4', '../AIdea/ivslab_train/Annotations/All/FILE2132_00.mp4', '../AIdea/ivslab_train/Annotations/All/FILE2132_01.mp4', '../AIdea/ivslab_train/Annotations/All/FILE2132_02.mp4', '../AIdea/ivslab_train/Annotations/All/FILE2132_03.mp4', '../AIdea/ivslab_train/Annotations/All/FILE2132_04.mp4', '../AIdea/ivslab_train/Annotations/All/FILE2191_00.mp4', '../AIdea/ivslab_train/Annotations/All/FILE2191_01.mp4', '../AIdea/ivslab_train/Annotations/All/FILE2191_02.mp4', '../AIdea/ivslab_train/Annotations/All/FILE2191_03.mp4', '../AIdea/ivslab_train/Annotations/All/FILE2191_04.mp4', '../AIdea/ivslab_train/Annotations/All/FILE2654_00.mp4', '../AIdea/ivslab_train/Annotations/All/FILE2654_01.mp4', '../AIdea/ivslab_train/Annotations/All/FILE2654_02.mp4', '../AIdea/ivslab_train/Annotations/All/FILE2654_03.mp4', '../AIdea/ivslab_train/Annotations/All/FILE2654_04.mp4', '../AIdea/ivslab_train/Annotations/All/FILE3567_00.mp4', '../AIdea/ivslab_train/Annotations/All/FILE3567_01.mp4', '../AIdea/ivslab_train/Annotations/All/FILE3567_02.mp4', '../AIdea/ivslab_train/Annotations/All/FILE3567_03.mp4', '../AIdea/ivslab_train/Annotations/All/FILE3567_04.mp4', '../AIdea/ivslab_train/Annotations/All/Fog_02_00.mp4', '../AIdea/ivslab_train/Annotations/All/Fog_02_01.mp4', '../AIdea/ivslab_train/Annotations/All/Fog_02_02.mp4', '../AIdea/ivslab_train/Annotations/All/Fog_02_03.mp4', '../AIdea/ivslab_train/Annotations/All/Fog_02_04.mp4']\n"
     ]
    }
   ],
   "source": [
    "xml_folder_path = sorted(glob.glob('../AIdea/ivslab_train/Annotations/All/*'))\n",
    "print(xml_folder_path)"
   ]
  },
  {
   "cell_type": "code",
   "execution_count": 5,
   "metadata": {},
   "outputs": [
    {
     "name": "stdout",
     "output_type": "stream",
     "text": [
      "[ ../AIdea/ivslab_train/Annotations/All/10_00.mp4 ]\n",
      "[ ../AIdea/ivslab_train/Annotations/All/10_01.mp4 ]\n",
      "[ ../AIdea/ivslab_train/Annotations/All/10_02.mp4 ]\n",
      "[ ../AIdea/ivslab_train/Annotations/All/10_03.mp4 ]\n",
      "[ ../AIdea/ivslab_train/Annotations/All/10_04.mp4 ]\n",
      "[ ../AIdea/ivslab_train/Annotations/All/191_00.mp4 ]\n",
      "[ ../AIdea/ivslab_train/Annotations/All/191_01.mp4 ]\n",
      "[ ../AIdea/ivslab_train/Annotations/All/191_02.mp4 ]\n",
      "[ ../AIdea/ivslab_train/Annotations/All/191_03.mp4 ]\n",
      "[ ../AIdea/ivslab_train/Annotations/All/191_04.mp4 ]\n",
      "[ ../AIdea/ivslab_train/Annotations/All/1_40_00.mp4 ]\n",
      "[ ../AIdea/ivslab_train/Annotations/All/1_40_01.mp4 ]\n",
      "[ ../AIdea/ivslab_train/Annotations/All/1_40_02.mp4 ]\n",
      "[ ../AIdea/ivslab_train/Annotations/All/2_77_00.mp4 ]\n",
      "[ ../AIdea/ivslab_train/Annotations/All/2_77_01.mp4 ]\n",
      "[ ../AIdea/ivslab_train/Annotations/All/2_77_02.mp4 ]\n",
      "[ ../AIdea/ivslab_train/Annotations/All/2_78_00.mp4 ]\n",
      "[ ../AIdea/ivslab_train/Annotations/All/2_78_01.mp4 ]\n",
      "[ ../AIdea/ivslab_train/Annotations/All/2_78_02.mp4 ]\n",
      "[ ../AIdea/ivslab_train/Annotations/All/71_00.mp4 ]\n",
      "[ ../AIdea/ivslab_train/Annotations/All/71_01.mp4 ]\n",
      "[ ../AIdea/ivslab_train/Annotations/All/71_02.mp4 ]\n",
      "[ ../AIdea/ivslab_train/Annotations/All/71_03.mp4 ]\n",
      "[ ../AIdea/ivslab_train/Annotations/All/71_04.mp4 ]\n",
      "[ ../AIdea/ivslab_train/Annotations/All/9_00.mp4 ]\n",
      "[ ../AIdea/ivslab_train/Annotations/All/9_01.mp4 ]\n",
      "[ ../AIdea/ivslab_train/Annotations/All/9_02.mp4 ]\n",
      "[ ../AIdea/ivslab_train/Annotations/All/9_03.mp4 ]\n",
      "[ ../AIdea/ivslab_train/Annotations/All/9_04.mp4 ]\n",
      "[ ../AIdea/ivslab_train/Annotations/All/FILE2132_00.mp4 ]\n",
      "[ ../AIdea/ivslab_train/Annotations/All/FILE2132_01.mp4 ]\n",
      "[ ../AIdea/ivslab_train/Annotations/All/FILE2132_02.mp4 ]\n",
      "[ ../AIdea/ivslab_train/Annotations/All/FILE2132_03.mp4 ]\n",
      "[ ../AIdea/ivslab_train/Annotations/All/FILE2132_04.mp4 ]\n",
      "[ ../AIdea/ivslab_train/Annotations/All/FILE2191_00.mp4 ]\n",
      "[ ../AIdea/ivslab_train/Annotations/All/FILE2191_01.mp4 ]\n",
      "[ ../AIdea/ivslab_train/Annotations/All/FILE2191_02.mp4 ]\n",
      "[ ../AIdea/ivslab_train/Annotations/All/FILE2191_03.mp4 ]\n",
      "[ ../AIdea/ivslab_train/Annotations/All/FILE2191_04.mp4 ]\n",
      "[ ../AIdea/ivslab_train/Annotations/All/FILE2654_00.mp4 ]\n",
      "[ ../AIdea/ivslab_train/Annotations/All/FILE2654_01.mp4 ]\n",
      "[ ../AIdea/ivslab_train/Annotations/All/FILE2654_02.mp4 ]\n",
      "[ ../AIdea/ivslab_train/Annotations/All/FILE2654_03.mp4 ]\n",
      "[ ../AIdea/ivslab_train/Annotations/All/FILE2654_04.mp4 ]\n",
      "[ ../AIdea/ivslab_train/Annotations/All/FILE3567_00.mp4 ]\n",
      "[ ../AIdea/ivslab_train/Annotations/All/FILE3567_01.mp4 ]\n",
      "[ ../AIdea/ivslab_train/Annotations/All/FILE3567_02.mp4 ]\n",
      "[ ../AIdea/ivslab_train/Annotations/All/FILE3567_03.mp4 ]\n",
      "[ ../AIdea/ivslab_train/Annotations/All/FILE3567_04.mp4 ]\n",
      "[ ../AIdea/ivslab_train/Annotations/All/Fog_02_00.mp4 ]\n",
      "[ ../AIdea/ivslab_train/Annotations/All/Fog_02_01.mp4 ]\n",
      "[ ../AIdea/ivslab_train/Annotations/All/Fog_02_02.mp4 ]\n",
      "[ ../AIdea/ivslab_train/Annotations/All/Fog_02_03.mp4 ]\n",
      "[ ../AIdea/ivslab_train/Annotations/All/Fog_02_04.mp4 ]\n"
     ]
    }
   ],
   "source": [
    "json_bboxes = []\n",
    "valid_json_bboxes = []\n",
    "count = 0\n",
    "\n",
    "for xml_folder in xml_folder_path: \n",
    "    xml_path = sorted(glob.glob(xml_folder+'/*.xml'))\n",
    "    print('[',xml_folder,']')\n",
    "    for xml in xml_path:\n",
    "        tree = ET.parse(xml).getroot()\n",
    "        xml_bboxes = []\n",
    "        for ob in tree:\n",
    "            box={}\n",
    "            box['label'] = ob.find(\"name\").text\n",
    "            x1 = int(ob.find(\"bndbox\").find(\"xmin\").text)\n",
    "            y1 = int(ob.find(\"bndbox\").find(\"ymin\").text)\n",
    "            x2 = int(ob.find(\"bndbox\").find(\"xmax\").text)\n",
    "            y2 = int(ob.find(\"bndbox\").find(\"ymax\").text)\n",
    "            box['point'] = [x1,y1,x2,y2]\n",
    "            xml_bboxes.append(box)\n",
    "        if count in rand_numbers:\n",
    "            valid_json_bboxes.append(xml_bboxes)\n",
    "        else:\n",
    "            json_bboxes.append(xml_bboxes)\n",
    "        \n",
    "        count+=1\n",
    "        \n",
    "with open(os.path.join('./data', 'TRAIN_objects.json'), 'w') as j:\n",
    "    json.dump(json_bboxes, j)\n",
    "with open(os.path.join('./data', 'VALID_objects.json'), 'w') as j:\n",
    "    json.dump(valid_json_bboxes, j)"
   ]
  },
  {
   "cell_type": "markdown",
   "metadata": {},
   "source": [
    "### Training Images folder to json"
   ]
  },
  {
   "cell_type": "code",
   "execution_count": 6,
   "metadata": {},
   "outputs": [
    {
     "name": "stdout",
     "output_type": "stream",
     "text": [
      "['../AIdea/ivslab_train/JPEGImages/All/10_00.mp4', '../AIdea/ivslab_train/JPEGImages/All/10_01.mp4', '../AIdea/ivslab_train/JPEGImages/All/10_02.mp4', '../AIdea/ivslab_train/JPEGImages/All/10_03.mp4', '../AIdea/ivslab_train/JPEGImages/All/10_04.mp4', '../AIdea/ivslab_train/JPEGImages/All/191_00.mp4', '../AIdea/ivslab_train/JPEGImages/All/191_01.mp4', '../AIdea/ivslab_train/JPEGImages/All/191_02.mp4', '../AIdea/ivslab_train/JPEGImages/All/191_03.mp4', '../AIdea/ivslab_train/JPEGImages/All/191_04.mp4', '../AIdea/ivslab_train/JPEGImages/All/1_40_00.mp4', '../AIdea/ivslab_train/JPEGImages/All/1_40_01.mp4', '../AIdea/ivslab_train/JPEGImages/All/1_40_02.mp4', '../AIdea/ivslab_train/JPEGImages/All/2_77_00.mp4', '../AIdea/ivslab_train/JPEGImages/All/2_77_01.mp4', '../AIdea/ivslab_train/JPEGImages/All/2_77_02.mp4', '../AIdea/ivslab_train/JPEGImages/All/2_78_00.mp4', '../AIdea/ivslab_train/JPEGImages/All/2_78_01.mp4', '../AIdea/ivslab_train/JPEGImages/All/2_78_02.mp4', '../AIdea/ivslab_train/JPEGImages/All/71_00.mp4', '../AIdea/ivslab_train/JPEGImages/All/71_01.mp4', '../AIdea/ivslab_train/JPEGImages/All/71_02.mp4', '../AIdea/ivslab_train/JPEGImages/All/71_03.mp4', '../AIdea/ivslab_train/JPEGImages/All/71_04.mp4', '../AIdea/ivslab_train/JPEGImages/All/9_00.mp4', '../AIdea/ivslab_train/JPEGImages/All/9_01.mp4', '../AIdea/ivslab_train/JPEGImages/All/9_02.mp4', '../AIdea/ivslab_train/JPEGImages/All/9_03.mp4', '../AIdea/ivslab_train/JPEGImages/All/9_04.mp4', '../AIdea/ivslab_train/JPEGImages/All/FILE2132_00.mp4', '../AIdea/ivslab_train/JPEGImages/All/FILE2132_01.mp4', '../AIdea/ivslab_train/JPEGImages/All/FILE2132_02.mp4', '../AIdea/ivslab_train/JPEGImages/All/FILE2132_03.mp4', '../AIdea/ivslab_train/JPEGImages/All/FILE2132_04.mp4', '../AIdea/ivslab_train/JPEGImages/All/FILE2191_00.mp4', '../AIdea/ivslab_train/JPEGImages/All/FILE2191_01.mp4', '../AIdea/ivslab_train/JPEGImages/All/FILE2191_02.mp4', '../AIdea/ivslab_train/JPEGImages/All/FILE2191_03.mp4', '../AIdea/ivslab_train/JPEGImages/All/FILE2191_04.mp4', '../AIdea/ivslab_train/JPEGImages/All/FILE2654_00.mp4', '../AIdea/ivslab_train/JPEGImages/All/FILE2654_01.mp4', '../AIdea/ivslab_train/JPEGImages/All/FILE2654_02.mp4', '../AIdea/ivslab_train/JPEGImages/All/FILE2654_03.mp4', '../AIdea/ivslab_train/JPEGImages/All/FILE2654_04.mp4', '../AIdea/ivslab_train/JPEGImages/All/FILE3567_00.mp4', '../AIdea/ivslab_train/JPEGImages/All/FILE3567_01.mp4', '../AIdea/ivslab_train/JPEGImages/All/FILE3567_02.mp4', '../AIdea/ivslab_train/JPEGImages/All/FILE3567_03.mp4', '../AIdea/ivslab_train/JPEGImages/All/FILE3567_04.mp4', '../AIdea/ivslab_train/JPEGImages/All/Fog_02_00.mp4', '../AIdea/ivslab_train/JPEGImages/All/Fog_02_01.mp4', '../AIdea/ivslab_train/JPEGImages/All/Fog_02_02.mp4', '../AIdea/ivslab_train/JPEGImages/All/Fog_02_03.mp4', '../AIdea/ivslab_train/JPEGImages/All/Fog_02_04.mp4']\n"
     ]
    }
   ],
   "source": [
    "images_folder_path = sorted(glob.glob('../AIdea/ivslab_train/JPEGImages/All/*'))\n",
    "print(images_folder_path)"
   ]
  },
  {
   "cell_type": "code",
   "execution_count": 7,
   "metadata": {},
   "outputs": [
    {
     "name": "stdout",
     "output_type": "stream",
     "text": [
      "[ ../AIdea/ivslab_train/JPEGImages/All/10_00.mp4 ]\n",
      "[ ../AIdea/ivslab_train/JPEGImages/All/10_01.mp4 ]\n",
      "[ ../AIdea/ivslab_train/JPEGImages/All/10_02.mp4 ]\n",
      "[ ../AIdea/ivslab_train/JPEGImages/All/10_03.mp4 ]\n",
      "[ ../AIdea/ivslab_train/JPEGImages/All/10_04.mp4 ]\n",
      "[ ../AIdea/ivslab_train/JPEGImages/All/191_00.mp4 ]\n",
      "[ ../AIdea/ivslab_train/JPEGImages/All/191_01.mp4 ]\n",
      "[ ../AIdea/ivslab_train/JPEGImages/All/191_02.mp4 ]\n",
      "[ ../AIdea/ivslab_train/JPEGImages/All/191_03.mp4 ]\n",
      "[ ../AIdea/ivslab_train/JPEGImages/All/191_04.mp4 ]\n",
      "[ ../AIdea/ivslab_train/JPEGImages/All/1_40_00.mp4 ]\n",
      "[ ../AIdea/ivslab_train/JPEGImages/All/1_40_01.mp4 ]\n",
      "[ ../AIdea/ivslab_train/JPEGImages/All/1_40_02.mp4 ]\n",
      "[ ../AIdea/ivslab_train/JPEGImages/All/2_77_00.mp4 ]\n",
      "[ ../AIdea/ivslab_train/JPEGImages/All/2_77_01.mp4 ]\n",
      "[ ../AIdea/ivslab_train/JPEGImages/All/2_77_02.mp4 ]\n",
      "[ ../AIdea/ivslab_train/JPEGImages/All/2_78_00.mp4 ]\n",
      "[ ../AIdea/ivslab_train/JPEGImages/All/2_78_01.mp4 ]\n",
      "[ ../AIdea/ivslab_train/JPEGImages/All/2_78_02.mp4 ]\n",
      "[ ../AIdea/ivslab_train/JPEGImages/All/71_00.mp4 ]\n",
      "[ ../AIdea/ivslab_train/JPEGImages/All/71_01.mp4 ]\n",
      "[ ../AIdea/ivslab_train/JPEGImages/All/71_02.mp4 ]\n",
      "[ ../AIdea/ivslab_train/JPEGImages/All/71_03.mp4 ]\n",
      "[ ../AIdea/ivslab_train/JPEGImages/All/71_04.mp4 ]\n",
      "[ ../AIdea/ivslab_train/JPEGImages/All/9_00.mp4 ]\n",
      "[ ../AIdea/ivslab_train/JPEGImages/All/9_01.mp4 ]\n",
      "[ ../AIdea/ivslab_train/JPEGImages/All/9_02.mp4 ]\n",
      "[ ../AIdea/ivslab_train/JPEGImages/All/9_03.mp4 ]\n",
      "[ ../AIdea/ivslab_train/JPEGImages/All/9_04.mp4 ]\n",
      "[ ../AIdea/ivslab_train/JPEGImages/All/FILE2132_00.mp4 ]\n",
      "[ ../AIdea/ivslab_train/JPEGImages/All/FILE2132_01.mp4 ]\n",
      "[ ../AIdea/ivslab_train/JPEGImages/All/FILE2132_02.mp4 ]\n",
      "[ ../AIdea/ivslab_train/JPEGImages/All/FILE2132_03.mp4 ]\n",
      "[ ../AIdea/ivslab_train/JPEGImages/All/FILE2132_04.mp4 ]\n",
      "[ ../AIdea/ivslab_train/JPEGImages/All/FILE2191_00.mp4 ]\n",
      "[ ../AIdea/ivslab_train/JPEGImages/All/FILE2191_01.mp4 ]\n",
      "[ ../AIdea/ivslab_train/JPEGImages/All/FILE2191_02.mp4 ]\n",
      "[ ../AIdea/ivslab_train/JPEGImages/All/FILE2191_03.mp4 ]\n",
      "[ ../AIdea/ivslab_train/JPEGImages/All/FILE2191_04.mp4 ]\n",
      "[ ../AIdea/ivslab_train/JPEGImages/All/FILE2654_00.mp4 ]\n",
      "[ ../AIdea/ivslab_train/JPEGImages/All/FILE2654_01.mp4 ]\n",
      "[ ../AIdea/ivslab_train/JPEGImages/All/FILE2654_02.mp4 ]\n",
      "[ ../AIdea/ivslab_train/JPEGImages/All/FILE2654_03.mp4 ]\n",
      "[ ../AIdea/ivslab_train/JPEGImages/All/FILE2654_04.mp4 ]\n",
      "[ ../AIdea/ivslab_train/JPEGImages/All/FILE3567_00.mp4 ]\n",
      "[ ../AIdea/ivslab_train/JPEGImages/All/FILE3567_01.mp4 ]\n",
      "[ ../AIdea/ivslab_train/JPEGImages/All/FILE3567_02.mp4 ]\n",
      "[ ../AIdea/ivslab_train/JPEGImages/All/FILE3567_03.mp4 ]\n",
      "[ ../AIdea/ivslab_train/JPEGImages/All/FILE3567_04.mp4 ]\n",
      "[ ../AIdea/ivslab_train/JPEGImages/All/Fog_02_00.mp4 ]\n",
      "[ ../AIdea/ivslab_train/JPEGImages/All/Fog_02_01.mp4 ]\n",
      "[ ../AIdea/ivslab_train/JPEGImages/All/Fog_02_02.mp4 ]\n",
      "[ ../AIdea/ivslab_train/JPEGImages/All/Fog_02_03.mp4 ]\n",
      "[ ../AIdea/ivslab_train/JPEGImages/All/Fog_02_04.mp4 ]\n"
     ]
    }
   ],
   "source": [
    "image_folder_list = []\n",
    "valid_image_folder_list = []\n",
    "count = 0\n",
    "for image_folder in images_folder_path: \n",
    "    print('[',image_folder,']')\n",
    "    image_path_list = sorted(glob.glob(image_folder+'/*.jpg'))\n",
    "    for image_path in image_path_list:\n",
    "        if count in rand_numbers:\n",
    "            valid_image_folder_list.append('../'+image_path)\n",
    "        else :\n",
    "            image_folder_list.append('../'+image_path)\n",
    "        \n",
    "        count+=1\n",
    "\n",
    "with open(os.path.join('./data', 'TRAIN_images.json'), 'w') as j:\n",
    "    json.dump(image_folder_list, j)\n",
    "with open(os.path.join('./data', 'VALID_images.json'), 'w') as j:\n",
    "    json.dump(valid_image_folder_list, j)"
   ]
  },
  {
   "cell_type": "code",
   "execution_count": null,
   "metadata": {},
   "outputs": [],
   "source": []
  },
  {
   "cell_type": "markdown",
   "metadata": {},
   "source": [
    "### 查看所有label (for label_map.json)"
   ]
  },
  {
   "cell_type": "code",
   "execution_count": 26,
   "metadata": {},
   "outputs": [
    {
     "name": "stdout",
     "output_type": "stream",
     "text": [
      "['vehicle', 'scooter', 'pedestrian', 'bicycle']\n"
     ]
    }
   ],
   "source": [
    "label=[]\n",
    "for xml_folder in xml_folder_path: \n",
    "    xml_path = sorted(glob.glob(xml_folder+'/*.xml'))\n",
    "    for xml in xml_path:\n",
    "        tree = ET.parse(xml).getroot()\n",
    "        xml_bboxes = []\n",
    "        for ob in tree:\n",
    "            box['label'] = ob.find(\"name\").text\n",
    "            if box['label'] not in label :\n",
    "                label.append(box['label'])\n",
    "print(label)"
   ]
  },
  {
   "cell_type": "code",
   "execution_count": null,
   "metadata": {},
   "outputs": [],
   "source": []
  },
  {
   "cell_type": "code",
   "execution_count": null,
   "metadata": {},
   "outputs": [],
   "source": []
  }
 ],
 "metadata": {
  "kernelspec": {
   "display_name": "Python 3",
   "language": "python",
   "name": "python3"
  },
  "language_info": {
   "codemirror_mode": {
    "name": "ipython",
    "version": 3
   },
   "file_extension": ".py",
   "mimetype": "text/x-python",
   "name": "python",
   "nbconvert_exporter": "python",
   "pygments_lexer": "ipython3",
   "version": "3.6.7"
  }
 },
 "nbformat": 4,
 "nbformat_minor": 4
}
